{
  "nbformat": 4,
  "nbformat_minor": 0,
  "metadata": {
    "colab": {
      "name": "DeepLearning AndriiBlagodyr  HW-2",
      "provenance": [],
      "collapsed_sections": []
    },
    "kernelspec": {
      "name": "python3",
      "display_name": "Python 3"
    }
  },
  "cells": [
    {
      "cell_type": "code",
      "metadata": {
        "id": "rRfLTu2V0eNM",
        "colab_type": "code",
        "colab": {}
      },
      "source": [
        "import numpy as np\n",
        "import pickle\n",
        "import time\n",
        "import matplotlib.pyplot as plt\n",
        "from __future__ import print_function"
      ],
      "execution_count": 1,
      "outputs": []
    },
    {
      "cell_type": "code",
      "metadata": {
        "id": "UXAqwMjs9zVD",
        "colab_type": "code",
        "colab": {}
      },
      "source": [
        "def diff_numpy(a, b, msg=None):\n",
        "    \"\"\"Shows differences between two tensors\"\"\"\n",
        "    if a.shape != b.shape:\n",
        "        print('Wrong shape!')\n",
        "        print(a.shape)\n",
        "        print(b.shape)\n",
        "    else:\n",
        "        diff = (np.sum(a - b))**2\n",
        "        if msg:\n",
        "            print('%s diff = %1.6f' % (msg, diff.item()))\n",
        "        else:\n",
        "            print('diff = %1.6f' % diff.item())\n",
        "\n",
        "\n",
        "def images2batches(images):\n",
        "    \"\"\"Converts images to convenient for batching form\"\"\"\n",
        "    ndata, img_size, _ = images.shape\n",
        "    return np.reshape(images, (ndata, img_size*img_size))\n",
        "\n",
        "\n",
        "def imshow(img):\n",
        "    \"\"\"Show image using matplotlib\"\"\"\n",
        "    plt.imshow(img, cmap='gray', vmin=0, vmax=255)\n",
        "    plt.show()\n",
        "\n",
        "def init_uniform(a):\n",
        "    \"\"\"Makes iniform initialization of weight matrix (please, use\n",
        "    numpy.random.uniform function or similar\"\"\"\n",
        "    r_size, c_size = a.shape[0], a.shape[1],\n",
        "    r = np.sqrt(6/(r_size+c_size))\n",
        "    return np.array([ np.random.uniform(-r,r) for x in range(r_size*c_size)]).reshape(r_size,c_size)\n",
        "\n",
        "def relu(m):\n",
        "    \"\"\"Implements ReLU activation function\"\"\"\n",
        "    return np.maximum(m, 0)\n",
        "\n",
        "def drelu(m):\n",
        "    \"\"\"Implements ReLU activation function derivative\"\"\"\n",
        "    return np.where(m > 0, 1.0, 0.0)\n",
        "\n",
        "\n",
        "def get_random_batch(batches_train, batch_size):\n",
        "    \"\"\"Outputs random batch of batch_size\"\"\"\n",
        "    (col, _) = batches_train.shape\n",
        "    indices = np.random.choice(col, batch_size )\n",
        "    return batches_train[indices]\n",
        "\n",
        "\n",
        "def get_loss(Y_batch, X_batch_train):\n",
        "    \"\"\"Claculates sum squared loss\"\"\"\n",
        "    return np.sum((Y_batch - X_batch_train)**2)"
      ],
      "execution_count": 2,
      "outputs": []
    },
    {
      "cell_type": "code",
      "metadata": {
        "id": "XFqZB5RpU8HV",
        "colab_type": "code",
        "colab": {}
      },
      "source": [
        "BATCH_SIZE = 20\n",
        "UPDATES_NUM = 1000\n",
        "IMG_SIZE = 15\n",
        "D = 225 # IMG_SIZE*IMG_SIZE\n",
        "P = 75 # D /// 3\n",
        "LEARNING_RATE = 0.001"
      ],
      "execution_count": 3,
      "outputs": []
    },
    {
      "cell_type": "code",
      "metadata": {
        "id": "VhxlKGvn-Ppg",
        "colab_type": "code",
        "colab": {}
      },
      "source": [
        "class EncDecNetLite():\n",
        "    def __init__(self):\n",
        "        super(EncDecNetLite, self).__init__()\n",
        "        self.w_in = np.zeros((P, D))\n",
        "        self.b_in = np.zeros((1, P))      \n",
        "        #\n",
        "        # Please, add other weights here\n",
        "        #\n",
        "        self.b_rec = np.zeros((1, P))\n",
        "        self.b_out = np.zeros((1, D))\n",
        "        self.w_rec = np.zeros((P, P))\n",
        "        self.w_link = np.zeros((P, P))\n",
        "        self.w_out = np.zeros((D, P))\n",
        "\n",
        "\n",
        "    def init(self):\n",
        "        self.w_in = init_uniform(self.w_in)\n",
        "        #\n",
        "        # Please, add initializations of other weights here\n",
        "        #\n",
        "        self.w_link = init_uniform(self.w_link)\n",
        "        self.w_out = init_uniform(self.w_out)\n",
        "        np.fill_diagonal(self.w_rec,1)\n",
        "\n",
        "    def scalar_forward(self, x):\n",
        "      z_in_scalar = np.zeros((BATCH_SIZE, P))\n",
        "      for i in range(BATCH_SIZE): \n",
        "        for j in range(P): \n",
        "          temp = 0\n",
        "          for k in range(D): \n",
        "             temp += x[i,k]*self.w_in[j,k]           \n",
        "          z_in_scalar[i,j]=relu(temp + self.b_in[0,j])\n",
        "        \n",
        "        return z_in_scalar\n",
        "\n",
        "    def vector_forward(self, x):\n",
        "        B_in = np.matmul(np.ones((BATCH_SIZE, 1)),\n",
        "                         self.b_in.reshape(1, P)) # [20, 75]\n",
        "        a_in = np.matmul(x, self.w_in.transpose()) + B_in # [20, 75]        \n",
        "        z_in_vector = relu(a_in)\n",
        "\n",
        "        return z_in_vector  \n",
        "        \n",
        "    def forward(self, x):\n",
        "        batch_size = x.shape[0]\n",
        "        B_in = np.matmul(np.ones((batch_size, 1)),\n",
        "                         self.b_in.reshape(1, P)) # [20, 75]\n",
        "        a_in = np.matmul(x, self.w_in.transpose()) + B_in # [20, 75]\n",
        "        z_in = relu(a_in)\n",
        "        #\n",
        "        # Please, add forward pass here\n",
        "        #\n",
        "        x_reduce = x[:, range(0, D, 3)] # [20, 75]\n",
        "        z_link = np.matmul(x_reduce, self.w_link.transpose())\n",
        "\n",
        "        B_rec = np.matmul(np.ones((batch_size, 1)),\n",
        "                self.b_rec.reshape(1, P)) # [20, 75]\n",
        "        a_rec = np.matmul(z_in, self.w_rec.transpose()) + B_rec # [20, 75]\n",
        "        z_rec = relu(a_rec)\n",
        "\n",
        "        z_rec_link = z_link + z_rec\n",
        "        B_out = np.matmul(np.ones((batch_size, 1)),\n",
        "                self.b_out.reshape(1, D)) # [20, 75]\n",
        "        a_out = np.matmul(z_rec_link, self.w_out.transpose()) + B_out # [20, 75]\n",
        "        y = relu(a_out)\n",
        "\n",
        "        # return y\n",
        "        return y, a_out, z_rec_link, x_reduce, a_rec, a_in\n",
        "\n",
        "\n",
        "    def backprop(self, X, Y, a_out, z_rec_link, x_reduce, a_rec, a_in):\n",
        "        #\n",
        "        # Please, add backpropagation pass here\n",
        "        #\n",
        "        vec = np.ones((BATCH_SIZE,1)).transpose()\n",
        "        dY = (Y-X) * drelu(a_out) # [20, 225]\n",
        "        dW_out = np.matmul(dY.transpose(), z_rec_link) # [225, 75]\n",
        "        dB_out = np.matmul(vec, dY) \n",
        "        dOut = np.matmul(dY, self.w_out)\n",
        "\n",
        "        dZ_link = dOut\n",
        "        dW_link = np.matmul(dZ_link.transpose(), x_reduce)\n",
        "\n",
        "        dZ_rec = dOut * drelu(a_rec)\n",
        "\n",
        "        #Out\n",
        "        dRec = np.matmul(dZ_rec, self.w_rec)\n",
        "        \n",
        "        dZ_in = dRec * drelu(a_in)\n",
        "        dW_in = np.matmul(dZ_in.transpose(), X)\n",
        "        dB_in = np.matmul(vec, dZ_in) \n",
        "        return dW_out, dB_out, dW_link, dW_in, dB_in\n",
        "\n",
        "    def apply_dw(self, dW_out, dB_out, dW_link, dW_in, dB_in):\n",
        "        #\n",
        "        # Correct neural network''s weights\n",
        "        #\n",
        "        self.w_out -= LEARNING_RATE * dW_out\n",
        "        self.b_out -= LEARNING_RATE * dB_out\n",
        "        self.w_link -= LEARNING_RATE * dW_link\n",
        "        self.w_in -= LEARNING_RATE * dW_in\n",
        "        self.b_in -= LEARNING_RATE * dB_in"
      ],
      "execution_count": 4,
      "outputs": []
    },
    {
      "cell_type": "code",
      "metadata": {
        "id": "cZToQrBkOrPJ",
        "colab_type": "code",
        "colab": {}
      },
      "source": [
        "# Load train data\n",
        "images_train = pickle.load(open('images_train.pickle', 'rb'))\n",
        "# Convert images to batching-friendly format\n",
        "batches_train = images2batches(images_train)\n",
        "\n",
        "# Create neural network\n",
        "neural_network = EncDecNetLite()\n",
        "# Initialize weights\n",
        "neural_network.init()"
      ],
      "execution_count": 5,
      "outputs": []
    },
    {
      "cell_type": "code",
      "metadata": {
        "id": "1GzZm47ffRLS",
        "colab_type": "code",
        "colab": {}
      },
      "source": [
        "def get_time_vector_forward():\n",
        "    start_time = time.time()\n",
        "    for i in range(500):\n",
        "      X_batch_train = get_random_batch(batches_train, BATCH_SIZE)\n",
        "      X_batch_train = X_batch_train/255\n",
        "      res = neural_network.vector_forward(X_batch_train)\n",
        "    end_time = time.time()\n",
        "    return end_time-start_time\n",
        "\n",
        "def get_time_scalar_forward():\n",
        "    start_time = time.time()\n",
        "    for i in range(500):\n",
        "      X_batch_train = get_random_batch(batches_train, BATCH_SIZE)\n",
        "      X_batch_train = X_batch_train/255\n",
        "      res = neural_network.scalar_forward(X_batch_train)\n",
        "    end_time = time.time()\n",
        "    return end_time-start_time"
      ],
      "execution_count": 11,
      "outputs": []
    },
    {
      "cell_type": "code",
      "metadata": {
        "id": "XjFnhmLLfo5z",
        "colab_type": "code",
        "colab": {
          "base_uri": "https://localhost:8080/",
          "height": 118
        },
        "outputId": "fa961b46-0282-4d80-a809-866738897ef8"
      },
      "source": [
        "print(\"\\nLayer_in comparison in vector and scalar forms:\")\n",
        "print(\"\\nTime of 500 iterartions for vector form :\", get_time_vector_forward())\n",
        "print(\"\\nTime of 500 iterartions for scalar form :\", get_time_scalar_forward())"
      ],
      "execution_count": 14,
      "outputs": [
        {
          "output_type": "stream",
          "text": [
            "\n",
            "Layer_in comparison in vector and scalar forms:\n",
            "\n",
            "Time of 500 iterartions for vector form : 0.1084134578704834\n",
            "\n",
            "Time of 500 iterartions for scalar form : 5.171440362930298\n"
          ],
          "name": "stdout"
        }
      ]
    },
    {
      "cell_type": "code",
      "metadata": {
        "id": "cgyQK57fp4L0",
        "colab_type": "code",
        "colab": {
          "base_uri": "https://localhost:8080/",
          "height": 372
        },
        "outputId": "068e5a8f-9d64-4bcb-b9f3-f1ba3a33f43d"
      },
      "source": [
        "loss = np.zeros(UPDATES_NUM)\n",
        "for i in range(UPDATES_NUM):\n",
        "   # Get random batch for Stochastic Gradient Descent\n",
        "   X_batch_train = get_random_batch(batches_train, BATCH_SIZE)\n",
        "   X_batch_train = X_batch_train/255\n",
        "\n",
        "   # Forward pass, calculate network''s outputs\n",
        "  #  y, a_out, z_rec_link, x_reduce, a_rec, a_in\n",
        "   y, a_out, z_rec_link, x_reduce, a_rec, a_in = neural_network.forward(X_batch_train)\n",
        "        \n",
        "   # Calculate sum squared loss\n",
        "   loss[i] = get_loss(y, X_batch_train)\n",
        "\n",
        "   if (i%50 == 0):\n",
        "      print(f'Loss: {loss[i]}')\n",
        "   # Backward pass, calculate derivatives of loss w.r.t. weights\n",
        "   dW_out, dB_out, dW_link, dW_in, dB_in = neural_network.backprop(X_batch_train, y, a_out, z_rec_link, x_reduce, a_rec, a_in)\n",
        "\n",
        "   # Correct neural network''s weights\n",
        "   neural_network.apply_dw(dW_out, dB_out, dW_link, dW_in, dB_in)\n"
      ],
      "execution_count": 8,
      "outputs": [
        {
          "output_type": "stream",
          "text": [
            "Loss: 179.95888020908546\n",
            "Loss: 62.08681155773729\n",
            "Loss: 38.67026960241233\n",
            "Loss: 29.992135638557258\n",
            "Loss: 32.42852939354012\n",
            "Loss: 14.752889930612985\n",
            "Loss: 22.698953013783033\n",
            "Loss: 11.566638257124575\n",
            "Loss: 16.67163700907638\n",
            "Loss: 15.058485255193668\n",
            "Loss: 12.988431159141353\n",
            "Loss: 8.649047726127943\n",
            "Loss: 14.003534586672233\n",
            "Loss: 12.58137825937273\n",
            "Loss: 8.224886501397727\n",
            "Loss: 7.259539713995717\n",
            "Loss: 9.442303651530349\n",
            "Loss: 9.027947915996165\n",
            "Loss: 10.876741714517312\n",
            "Loss: 7.597822350700299\n"
          ],
          "name": "stdout"
        }
      ]
    },
    {
      "cell_type": "code",
      "metadata": {
        "id": "XB6D-J1Sm4yC",
        "colab_type": "code",
        "colab": {
          "base_uri": "https://localhost:8080/",
          "height": 279
        },
        "outputId": "1031c8de-bd86-4610-abb5-c0b8a34d7c5c"
      },
      "source": [
        "plt.plot(loss)\n",
        "plt.ylabel('Loss values')\n",
        "plt.xlabel('Epochs')\n",
        "plt.show()"
      ],
      "execution_count": 9,
      "outputs": [
        {
          "output_type": "display_data",
          "data": {
            "image/png": "[encoded data removed]",
            "text/plain": [
              "<Figure size 432x288 with 1 Axes>"
            ]
          },
          "metadata": {
            "tags": [],
            "needs_background": "light"
          }
        }
      ]
    },
    {
      "cell_type": "code",
      "metadata": {
        "id": "VXFpSH7h48lx",
        "colab_type": "code",
        "colab": {
          "base_uri": "https://localhost:8080/",
          "height": 191
        },
        "outputId": "09aa15be-8116-43f7-a6a8-df49f46a1146"
      },
      "source": [
        "images_test = pickle.load(open('images_test.pickle', 'rb'))\n",
        "# Convert images to batching-friendly format\n",
        "X_batch_test = images2batches(images_test)\n",
        "y, a_out, z_rec_link, x_reduce, a_rec, a_in = neural_network.forward(X_batch_test)\n",
        "print('Test data')\n",
        "plt.figure(figsize=(30,15))\n",
        "for i in range(20):\n",
        "  plt.subplot(1, 20, i+1)\n",
        "  plt.imshow(images_test[i], plt.get_cmap('gray'))\n",
        "  plt.axis('off')\n",
        "plt.show()\n",
        "print('Predicted data')\n",
        "plt.figure(figsize=(30,15))\n",
        "for i in range(20):\n",
        "  plt.subplot(1, 20, i+1)\n",
        "  plt.imshow(255*y[i].reshape(15,15), plt.get_cmap('gray'))\n",
        "  plt.axis('off')\n",
        "plt.show()"
      ],
      "execution_count": 26,
      "outputs": [
        {
          "output_type": "stream",
          "text": [
            "Test data\n"
          ],
          "name": "stdout"
        },
        {
          "output_type": "display_data",
          "data": {
            "image/png": "[encoded data removed]",
            "text/plain": [
              "<Figure size 2160x1080 with 20 Axes>"
            ]
          },
          "metadata": {
            "tags": [],
            "needs_background": "light"
          }
        },
        {
          "output_type": "stream",
          "text": [
            "Predicted data\n"
          ],
          "name": "stdout"
        },
        {
          "output_type": "display_data",
          "data": {
            "image/png": "[encoded data removed]",
            "text/plain": [
              "<Figure size 2160x1080 with 20 Axes>"
            ]
          },
          "metadata": {
            "tags": [],
            "needs_background": "light"
          }
        }
      ]
    }
  ]
}